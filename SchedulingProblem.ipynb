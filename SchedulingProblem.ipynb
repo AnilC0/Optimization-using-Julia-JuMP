{
 "cells": [
  {
   "cell_type": "code",
   "execution_count": 1,
   "metadata": {},
   "outputs": [
    {
     "name": "stdout",
     "output_type": "stream",
     "text": [
      "\n",
      "We will use \"findall\" method to evaluate 4th and 5th constraint effectively"
     ]
    }
   ],
   "source": [
    "P =[1 1 0 0 0 0 0 0 0 0;\n",
    "    0 0 1 1 0 0 0 0 0 0;\n",
    "    0 0 0 0 1 1 0 0 0 0;\n",
    "    0 0 0 0 0 0 1 1 0 0;\n",
    "    0 0 0 0 0 0 0 0 1 1];\n",
    "\n",
    "S =[1 1 0 1 0 0 0 0 0 0;\n",
    "    0 0 1 0 1 0 0 1 0 0;\n",
    "    0 0 1 0 1 0 0 1 0 0;\n",
    "    0 0 1 0 1 0 0 1 0 0;\n",
    "    0 0 1 0 1 0 0 1 0 0;\n",
    "    1 1 0 1 0 0 0 0 0 0;\n",
    "    0 0 0 0 0 1 1 0 0 1;\n",
    "    0 0 0 0 0 1 1 0 0 1;\n",
    "    0 0 0 0 0 1 1 0 0 1;\n",
    "    1 1 0 1 0 0 0 0 0 0;\n",
    "    1 1 0 1 0 0 0 0 0 0;\n",
    "    0 0 0 0 0 0 1 0 1 1;\n",
    "    0 0 0 0 0 0 1 0 1 1;\n",
    "    0 0 0 0 0 0 1 0 1 1;\n",
    "    0 0 0 0 0 0 1 0 1 1];\n",
    "\n",
    "nc = 10; # Number of courses\n",
    "ns = 15; # Number of students\n",
    "np = 5;  # Number of professors\n",
    "nt = 6;  # Number of time slots\n",
    "nr = 4;  # Number of classrooms\n",
    "\n",
    "print(\"\\nWe will use \\\"findall\\\" method to evaluate 4th and 5th constraint effectively\")"
   ]
  },
  {
   "cell_type": "code",
   "execution_count": 2,
   "metadata": {},
   "outputs": [
    {
     "name": "stdout",
     "output_type": "stream",
     "text": [
      "[1, 2]\n",
      "[3, 4]\n",
      "[5, 6]\n",
      "[7, 8]\n",
      "[9, 10]\n",
      "----------\n",
      "[1, 2, 4]\n",
      "[3, 5, 8]\n",
      "[3, 5, 8]\n",
      "[3, 5, 8]\n",
      "[3, 5, 8]\n",
      "[1, 2, 4]\n",
      "[6, 7, 10]\n",
      "[6, 7, 10]\n",
      "[6, 7, 10]\n",
      "[1, 2, 4]\n",
      "[1, 2, 4]\n",
      "[7, 9, 10]\n",
      "[7, 9, 10]\n",
      "[7, 9, 10]\n",
      "[7, 9, 10]\n"
     ]
    }
   ],
   "source": [
    "for p in 1:np\n",
    "    println(findall(x->x==1, P[p,:]))\n",
    "end\n",
    "println(\"----------\")\n",
    "for s in 1:ns\n",
    "    println(findall(x->x==1, S[s,:]))\n",
    "end"
   ]
  },
  {
   "cell_type": "code",
   "execution_count": 3,
   "metadata": {},
   "outputs": [
    {
     "name": "stdout",
     "output_type": "stream",
     "text": [
      "Welcome to the CBC MILP Solver \n",
      "Version: 2.10.3 \n",
      "Build Date: Oct  7 2019 \n",
      "\n",
      "command line - Cbc_C_Interface -solve -quit (default strategy 1)\n",
      "Continuous objective value is 0 - 0.00 seconds\n",
      "Cgl0003I 0 fixed, 0 tightened bounds, 72 strengthened rows, 0 substitutions\n",
      "Cgl0003I 0 fixed, 0 tightened bounds, 72 strengthened rows, 0 substitutions\n",
      "Cgl0003I 0 fixed, 0 tightened bounds, 72 strengthened rows, 0 substitutions\n",
      "Cgl0003I 0 fixed, 0 tightened bounds, 63 strengthened rows, 0 substitutions\n",
      "Cgl0003I 0 fixed, 0 tightened bounds, 41 strengthened rows, 0 substitutions\n",
      "Cgl0003I 0 fixed, 0 tightened bounds, 40 strengthened rows, 0 substitutions\n",
      "Cgl0003I 0 fixed, 0 tightened bounds, 39 strengthened rows, 0 substitutions\n",
      "Cgl0003I 0 fixed, 0 tightened bounds, 20 strengthened rows, 0 substitutions\n",
      "Cgl0003I 0 fixed, 0 tightened bounds, 15 strengthened rows, 0 substitutions\n",
      "Cgl0004I processed model has 106 rows, 240 columns (240 integer (240 of which binary)) and 1218 elements\n",
      "Cbc0045I No integer variables out of 240 objects (240 integer) have costs\n",
      "Cbc0045I branch on satisfied N create fake objective Y random cost Y\n",
      "Cbc0012I Integer solution of 0 found by DiveCoefficient after 0 iterations and 0 nodes (0.05 seconds)\n",
      "Cbc0001I Search completed - best objective 0, took 0 iterations and 0 nodes (0.05 seconds)\n",
      "Cbc0035I Maximum depth 0, 0 variables fixed on reduced cost\n",
      "Cuts at root node changed objective from 0 to 0\n",
      "Probing was tried 0 times and created 0 cuts of which 0 were active after adding rounds of cuts (0.000 seconds)\n",
      "Gomory was tried 0 times and created 0 cuts of which 0 were active after adding rounds of cuts (0.000 seconds)\n",
      "Knapsack was tried 0 times and created 0 cuts of which 0 were active after adding rounds of cuts (0.000 seconds)\n",
      "Clique was tried 0 times and created 0 cuts of which 0 were active after adding rounds of cuts (0.000 seconds)\n",
      "MixedIntegerRounding2 was tried 0 times and created 0 cuts of which 0 were active after adding rounds of cuts (0.000 seconds)\n",
      "FlowCover was tried 0 times and created 0 cuts of which 0 were active after adding rounds of cuts (0.000 seconds)\n",
      "TwoMirCuts was tried 0 times and created 0 cuts of which 0 were active after adding rounds of cuts (0.000 seconds)\n",
      "ZeroHalf was tried 0 times and created 0 cuts of which 0 were active after adding rounds of cuts (0.000 seconds)\n",
      "\n",
      "Result - Optimal solution found\n",
      "\n",
      "Objective value:                0.00000000\n",
      "Enumerated nodes:               0\n",
      "Total iterations:               0\n",
      "Time (CPU seconds):             0.05\n",
      "Time (Wallclock seconds):       0.05\n",
      "\n",
      "Total time (CPU seconds):       0.05   (Wallclock seconds):       0.05\n",
      "\n"
     ]
    }
   ],
   "source": [
    "using JuMP, Cbc\n",
    "m = Model(with_optimizer(Cbc.Optimizer))\n",
    "@variable(m, 0<=TimeTables[ i= 1:nc, j = 1:nt, k = 1:nr]<=1 , Bin) #i(course), j(time), k(room)\n",
    "\n",
    "#CONSTRAINTS\n",
    "#1.To same place and time, we can schedule at most one course (Same Time, Same Room, ONE LECTURE)\n",
    "for k in 1:nr\n",
    "    for j in 1:nt\n",
    "        #think like k and j are constant. and use i value to check sum. change k&j and repeat\n",
    "        @constraint(m,sum(TimeTables[i,j,k] for i in 1:nc) <= 1)\n",
    "    end\n",
    "end\n",
    "\n",
    "#2.All courses takes two time slots\n",
    "for i in 1:nc\n",
    "    #each table has 2 ones.\n",
    "    @constraint(m, sum(TimeTables[i,j,k] for j in 1:nt, k in 1:nr) == 2 )\n",
    "end\n",
    "\n",
    "#3. A course cannot be scheduled to two different places at the same time (no sections)(row sum 1 or 0)\n",
    "for i in 1:nc\n",
    "    for j in 1:nt\n",
    "        #at first thinking like i and j are constant will be more understandable.\n",
    "        @constraint(m, sum(TimeTables[i,j,k] for k in 1:nr) <= 1)\n",
    "    end\n",
    "end\n",
    "\n",
    "#4. A professor cannot be in two different lectures at the same time\n",
    "for p in 1:np #for prof1, prof2 ... profnp\n",
    "    for j in 1:nt\n",
    "        #prof p in jth hour can be in one room or zero \n",
    "        @constraint(m,sum(TimeTables[i,j,k] for i in findall(x->x==1, P[p,:]), k in 1:nr) <=1)\n",
    "    end\n",
    "end\n",
    "\n",
    "#5. A student cannot be in two different lectures at the same time\n",
    "for s in 1:ns #for student1, student2 ... studentns\n",
    "    for j in 1:nt\n",
    "        #student s in jth hour can be in one room or zero. \n",
    "        @constraint(m,sum(TimeTables[i,j,k] for i in findall(x->x==1, S[s,:]), k in 1:nr) <= 1)\n",
    "    end\n",
    "end\n",
    "\n",
    "optimize!(m)"
   ]
  },
  {
   "cell_type": "code",
   "execution_count": 4,
   "metadata": {
    "scrolled": true
   },
   "outputs": [
    {
     "name": "stdout",
     "output_type": "stream",
     "text": [
      "\t|Room1\t|Room2\t|Room3\t|Room4\t|\n",
      "Time1\t|8.0\t|0.0\t|10.0\t|2.0\t|\n",
      "Time2\t|0.0\t|5.0\t|4.0\t|7.0\t|\n",
      "Time3\t|1.0\t|5.0\t|10.0\t|0.0\t|\n",
      "Time4\t|2.0\t|9.0\t|3.0\t|6.0\t|\n",
      "Time5\t|7.0\t|1.0\t|0.0\t|3.0\t|\n",
      "Time6\t|8.0\t|4.0\t|9.0\t|6.0\t|"
     ]
    }
   ],
   "source": [
    "print(\"\\t|\")\n",
    "for k = 1:nr\n",
    "    print(\"Room\",k,\"\\t|\")\n",
    "end\n",
    "for j = 1:nt\n",
    "    println()\n",
    "    print(\"Time\",j,\"\\t|\")\n",
    "    for k = 1:nr\n",
    "        print(sum(value(TimeTables[i,j,k])*i for i in 1:nc) ,\"\\t|\")   \n",
    "    end\n",
    "end"
   ]
  },
  {
   "cell_type": "code",
   "execution_count": null,
   "metadata": {},
   "outputs": [],
   "source": []
  }
 ],
 "metadata": {
  "kernelspec": {
   "display_name": "Julia 1.2.0",
   "language": "julia",
   "name": "julia-1.2"
  },
  "language_info": {
   "file_extension": ".jl",
   "mimetype": "application/julia",
   "name": "julia",
   "version": "1.2.0"
  }
 },
 "nbformat": 4,
 "nbformat_minor": 2
}
